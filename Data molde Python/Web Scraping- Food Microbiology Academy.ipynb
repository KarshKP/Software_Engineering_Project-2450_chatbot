{
 "cells": [
  {
   "cell_type": "markdown",
   "id": "bc98e8a1",
   "metadata": {
    "heading_collapsed": true
   },
   "source": [
    "### Importing necessary libraries"
   ]
  },
  {
   "cell_type": "code",
   "execution_count": 1,
   "id": "fbb05d66",
   "metadata": {
    "hidden": true
   },
   "outputs": [],
   "source": [
    "import numpy as np\n",
    "import pandas as pd\n",
    "import seaborn as sns\n",
    "import matplotlib.pyplot as plt\n",
    "import requests\n",
    "from bs4 import BeautifulSoup"
   ]
  },
  {
   "cell_type": "markdown",
   "id": "329ce9a8",
   "metadata": {
    "heading_collapsed": true
   },
   "source": [
    "### Web Scraping using BeautifulSoup"
   ]
  },
  {
   "cell_type": "code",
   "execution_count": 29,
   "id": "6fcd81b5",
   "metadata": {
    "hidden": true
   },
   "outputs": [],
   "source": [
    "# Base URL of the website\n",
    "base_url = \"https://foodmicrobiology.academy/category/\"\n",
    "\n",
    "# List of categories\n",
    "categories = [\n",
    "    \"bacteria\", \"blog\", \"career-guidance\", \"commentry\", \"eukaryotic-microbiology\",\n",
    "    \"fermented-foods\", \"food\", \"food-quality\", \"food-regulations\", \"food-safety\",\n",
    "    \"food-spoilage\", \"fungi\", \"history\", \"immunity\", \"prebiotics\", \"prions\",\n",
    "    \"probiotics-and-gut-health\", \"public-health\", \"uncategorized\", \"viruses\", \"yeast\"\n",
    "]\n",
    "\n",
    "# Empty list to store scraped data\n",
    "articles_data = []\n",
    "\n",
    "# Loop through each category\n",
    "for category in categories:\n",
    "    # Construct the full URL for the first page of the category\n",
    "    category_url = f\"{base_url}{category}/page/1/\"\n",
    "    \n",
    "    # Fetch the first page to determine the total number of pages\n",
    "    response = requests.get(category_url)\n",
    "    soup = BeautifulSoup(response.content, \"html.parser\")\n",
    "    \n",
    "    # Extract the total number of pages from the subtitle\n",
    "    subtitle = soup.find('p', class_='archive-subtitle').get_text(strip=True)\n",
    "    total_pages = int(subtitle.split('/')[-1])  # Extract the number after the \"/\"\n",
    "\n",
    "    # Loop through each page in the category\n",
    "    for page in range(1, total_pages + 1):\n",
    "        # Construct the URL for each page\n",
    "        page_url = f\"{base_url}{category}/page/{page}/\"\n",
    "        \n",
    "        # Fetch the content of the current page\n",
    "        response = requests.get(page_url)\n",
    "        soup = BeautifulSoup(response.content, \"html.parser\")\n",
    "        \n",
    "        # Extract the category name explicitly\n",
    "        category_name = soup.find('h1', class_='archive-title').find('span').get_text(strip=True)\n",
    "        \n",
    "        # Extract article information\n",
    "        for article in soup.find_all('article', class_='post'):\n",
    "            # Extract title and link\n",
    "            title_element = article.find('h2')\n",
    "            title = title_element.get_text(strip=True)\n",
    "            link = title_element.find('a')['href']\n",
    "            \n",
    "            # Fetch the detailed article page\n",
    "            article_response = requests.get(link)\n",
    "            article_soup = BeautifulSoup(article_response.content, \"html.parser\")\n",
    "            \n",
    "            # Locate the article element on the detailed page\n",
    "            detailed_article = article_soup.find('article', class_='single-post')\n",
    "            \n",
    "            # Extract the date from the article page\n",
    "            date_element = detailed_article.find('span', class_='post-meta-date')\n",
    "            date = date_element.find('a').get_text(strip=True) if date_element else 'Unknown'\n",
    "            \n",
    "            # Extract the content from the detailed article page\n",
    "            content = detailed_article.find('div', class_='post-content').get_text(strip=True)\n",
    "            \n",
    "            # Extract tags from the 'post-tags' div\n",
    "            tags_div = detailed_article.find('div', class_='post-tags')\n",
    "            if tags_div:\n",
    "                tags = [tag.get_text(strip=True) for tag in tags_div.find_all('a')]\n",
    "                tags_str = ', '.join(tags)\n",
    "            else:\n",
    "                tags_str = ''\n",
    "            \n",
    "            # Extract sub-categories (class names starting with 'category-')\n",
    "            sub_categories = [cls.split('category-')[-1] for cls in article['class'] if 'category-' in cls]\n",
    "            sub_categories_str = ', '.join(sub_categories)  # Join as a comma-separated string\n",
    "            \n",
    "            # Append the article data to the list\n",
    "            articles_data.append({\n",
    "                'category': category_name,  # Use the extracted category name\n",
    "                'sub_categories': sub_categories_str,  # Sub-categories as a string\n",
    "                'title': title,\n",
    "                'link': link,\n",
    "                'date': date,  # Date extracted from the detailed article page\n",
    "                'content': content,\n",
    "                'tags': tags_str  # Store the extracted tags\n",
    "            })\n",
    "\n",
    "# Convert the data into a DataFrame\n",
    "df = pd.DataFrame(articles_data)"
   ]
  },
  {
   "cell_type": "markdown",
   "id": "24f0394e",
   "metadata": {
    "heading_collapsed": true
   },
   "source": [
    "### Inspecting the scraped data"
   ]
  },
  {
   "cell_type": "code",
   "execution_count": 31,
   "id": "6b4d3d50",
   "metadata": {
    "hidden": true
   },
   "outputs": [
    {
     "data": {
      "text/html": [
       "<div>\n",
       "<style scoped>\n",
       "    .dataframe tbody tr th:only-of-type {\n",
       "        vertical-align: middle;\n",
       "    }\n",
       "\n",
       "    .dataframe tbody tr th {\n",
       "        vertical-align: top;\n",
       "    }\n",
       "\n",
       "    .dataframe thead th {\n",
       "        text-align: right;\n",
       "    }\n",
       "</style>\n",
       "<table border=\"1\" class=\"dataframe\">\n",
       "  <thead>\n",
       "    <tr style=\"text-align: right;\">\n",
       "      <th></th>\n",
       "      <th>category</th>\n",
       "      <th>sub_categories</th>\n",
       "      <th>title</th>\n",
       "      <th>link</th>\n",
       "      <th>date</th>\n",
       "      <th>content</th>\n",
       "      <th>tags</th>\n",
       "    </tr>\n",
       "  </thead>\n",
       "  <tbody>\n",
       "    <tr>\n",
       "      <th>0</th>\n",
       "      <td>Bacteria</td>\n",
       "      <td>bacteria, public-health</td>\n",
       "      <td>Understanding Cholera: A brief look into its c...</td>\n",
       "      <td>https://foodmicrobiology.academy/understanding...</td>\n",
       "      <td>July 13, 2024</td>\n",
       "      <td>IntroductionCholera is a bacterial infection t...</td>\n",
       "      <td>cholera, food microbiology, Food safety, foodb...</td>\n",
       "    </tr>\n",
       "    <tr>\n",
       "      <th>1</th>\n",
       "      <td>Bacteria</td>\n",
       "      <td>bacteria, food-quality, fungi, yeast</td>\n",
       "      <td>From HPP Innovation Week – Part 2</td>\n",
       "      <td>https://foodmicrobiology.academy/from-hpp-inno...</td>\n",
       "      <td>July 5, 2024</td>\n",
       "      <td>This is the second of a two-part series of ove...</td>\n",
       "      <td>food industry, food manufacturing, food microb...</td>\n",
       "    </tr>\n",
       "    <tr>\n",
       "      <th>2</th>\n",
       "      <td>Bacteria</td>\n",
       "      <td>bacteria, food-quality</td>\n",
       "      <td>From HPP Innovation week – Part 1</td>\n",
       "      <td>https://foodmicrobiology.academy/from-hpp-inno...</td>\n",
       "      <td>June 30, 2024</td>\n",
       "      <td>Hiperbaric îs a global leader in commercial hi...</td>\n",
       "      <td>food manufacturing, food microbiology, food pr...</td>\n",
       "    </tr>\n",
       "    <tr>\n",
       "      <th>3</th>\n",
       "      <td>Bacteria</td>\n",
       "      <td>bacteria, public-health</td>\n",
       "      <td>Coliforms and their role in ensuring the safet...</td>\n",
       "      <td>https://foodmicrobiology.academy/coliforms-and...</td>\n",
       "      <td>June 27, 2024</td>\n",
       "      <td>We are so delighted to welcome Ruby Chin to ou...</td>\n",
       "      <td>foodborne disease, microbiology, water quality</td>\n",
       "    </tr>\n",
       "    <tr>\n",
       "      <th>4</th>\n",
       "      <td>Bacteria</td>\n",
       "      <td>bacteria, public-health</td>\n",
       "      <td>Diverse burden of foodborne disease</td>\n",
       "      <td>https://foodmicrobiology.academy/diverse-burde...</td>\n",
       "      <td>May 26, 2024</td>\n",
       "      <td>Foodborne diseases, often referred to as foodb...</td>\n",
       "      <td>food microbiology, Food safety, food science, ...</td>\n",
       "    </tr>\n",
       "  </tbody>\n",
       "</table>\n",
       "</div>"
      ],
      "text/plain": [
       "   category                        sub_categories  \\\n",
       "0  Bacteria               bacteria, public-health   \n",
       "1  Bacteria  bacteria, food-quality, fungi, yeast   \n",
       "2  Bacteria                bacteria, food-quality   \n",
       "3  Bacteria               bacteria, public-health   \n",
       "4  Bacteria               bacteria, public-health   \n",
       "\n",
       "                                               title  \\\n",
       "0  Understanding Cholera: A brief look into its c...   \n",
       "1                  From HPP Innovation Week – Part 2   \n",
       "2                  From HPP Innovation week – Part 1   \n",
       "3  Coliforms and their role in ensuring the safet...   \n",
       "4                Diverse burden of foodborne disease   \n",
       "\n",
       "                                                link           date  \\\n",
       "0  https://foodmicrobiology.academy/understanding...  July 13, 2024   \n",
       "1  https://foodmicrobiology.academy/from-hpp-inno...   July 5, 2024   \n",
       "2  https://foodmicrobiology.academy/from-hpp-inno...  June 30, 2024   \n",
       "3  https://foodmicrobiology.academy/coliforms-and...  June 27, 2024   \n",
       "4  https://foodmicrobiology.academy/diverse-burde...   May 26, 2024   \n",
       "\n",
       "                                             content  \\\n",
       "0  IntroductionCholera is a bacterial infection t...   \n",
       "1  This is the second of a two-part series of ove...   \n",
       "2  Hiperbaric îs a global leader in commercial hi...   \n",
       "3  We are so delighted to welcome Ruby Chin to ou...   \n",
       "4  Foodborne diseases, often referred to as foodb...   \n",
       "\n",
       "                                                tags  \n",
       "0  cholera, food microbiology, Food safety, foodb...  \n",
       "1  food industry, food manufacturing, food microb...  \n",
       "2  food manufacturing, food microbiology, food pr...  \n",
       "3     foodborne disease, microbiology, water quality  \n",
       "4  food microbiology, Food safety, food science, ...  "
      ]
     },
     "execution_count": 31,
     "metadata": {},
     "output_type": "execute_result"
    }
   ],
   "source": [
    "df.head()"
   ]
  },
  {
   "cell_type": "code",
   "execution_count": 32,
   "id": "519f2e95",
   "metadata": {
    "hidden": true
   },
   "outputs": [
    {
     "name": "stdout",
     "output_type": "stream",
     "text": [
      "category                                                                                                                                                                                                                                                                                                                                                                                                                                                                                                                                                                                                                                                                                                                                                                                                                                                                                                                                                                                                                                                                                                                                                                                                                                                                                                                                                                                                                                                                                                                                                                                                                                                                                                                                                                                                                                                                                                                                                                                                                                                                                                                                                                                                                                                                                                                                                                                                                                                                                                                                                                                                                                                                                                                                                                                                                                                                                                                                                                                                                                                                                                                                                                                                                                                                                                                                                                                                                                                                                                                                                                                                                                                                                                                                                                                                                                                                                                                                                                                                                                                                                                                                                                                                                                                                                                                                                                                                                                                                                                                                                                                                                                                                                                                                                                                                                                                                                                                                                                                                                                                                    Bacteria\n",
      "sub_categories                                                                                                                                                                                                                                                                                                                                                                                                                                                                                                                                                                                                                                                                                                                                                                                                                                                                                                                                                                                                                                                                                                                                                                                                                                                                                                                                                                                                                                                                                                                                                                                                                                                                                                                                                                                                                                                                                                                                                                                                                                                                                                                                                                                                                                                                                                                                                                                                                                                                                                                                                                                                                                                                                                                                                                                                                                                                                                                                                                                                                                                                                                                                                                                                                                                                                                                                                                                                                                                                                                                                                                                                                                                                                                                                                                                                                                                                                                                                                                                                                                                                                                                                                                                                                                                                                                                                                                                                                                                                                                                                                                                                                                                                                                                                                                                                                                                                                                                                                                                                                                               bacteria, public-health\n",
      "title                                                                                                                                                                                                                                                                                                                                                                                                                                                                                                                                                                                                                                                                                                                                                                                                                                                                                                                                                                                                                                                                                                                                                                                                                                                                                                                                                                                                                                                                                                                                                                                                                                                                                                                                                                                                                                                                                                                                                                                                                                                                                                                                                                                                                                                                                                                                                                                                                                                                                                                                                                                                                                                                                                                                                                                                                                                                                                                                                                                                                                                                                                                                                                                                                                                                                                                                                                                                                                                                                                                                                                                                                                                                                                                                                                                                                                                                                                                                                                                                                                                                                                                                                                                                                                                                                                                                                                                                                                                                                                                                                                                                                                                                                                                                                                                                                                                                                                                                                                                                   Understanding Cholera: A brief look into its causes, symptoms and prevention\n",
      "link                                                                                                                                                                                                                                                                                                                                                                                                                                                                                                                                                                                                                                                                                                                                                                                                                                                                                                                                                                                                                                                                                                                                                                                                                                                                                                                                                                                                                                                                                                                                                                                                                                                                                                                                                                                                                                                                                                                                                                                                                                                                                                                                                                                                                                                                                                                                                                                                                                                                                                                                                                                                                                                                                                                                                                                                                                                                                                                                                                                                                                                                                                                                                                                                                                                                                                                                                                                                                                                                                                                                                                                                                                                                                                                                                                                                                                                                                                                                                                                                                                                                                                                                                                                                                                                                                                                                                                                                                                                                                                                                                                                                                                                                                                                                                                                                                                                                                                                                                                    https://foodmicrobiology.academy/understanding-cholera-a-brief-look-into-its-causes-symptoms-and-prevention/\n",
      "date                                                                                                                                                                                                                                                                                                                                                                                                                                                                                                                                                                                                                                                                                                                                                                                                                                                                                                                                                                                                                                                                                                                                                                                                                                                                                                                                                                                                                                                                                                                                                                                                                                                                                                                                                                                                                                                                                                                                                                                                                                                                                                                                                                                                                                                                                                                                                                                                                                                                                                                                                                                                                                                                                                                                                                                                                                                                                                                                                                                                                                                                                                                                                                                                                                                                                                                                                                                                                                                                                                                                                                                                                                                                                                                                                                                                                                                                                                                                                                                                                                                                                                                                                                                                                                                                                                                                                                                                                                                                                                                                                                                                                                                                                                                                                                                                                                                                                                                                                                                                                                                                   July 13, 2024\n",
      "content           IntroductionCholera is a bacterial infection that is caused by the bacteriumVibro cholerae. This disease is commonly associated with severe diarrhoea and dehydration symptoms, and is typically caused by the ingestion or consumption of contaminated water or food. Even to this day, Cholera is regarded as one of the diseases that poses a major threat to public health, Cholera outbreaks within communities are usually observed following natural disasters, such as floods. This is mainly due to restricted access to a safe drinking water supply as a result of infrastructure damage or destruction.Cholera infections are also more commonly seen in less developed countries, thus making it a main indicator of social and economic inequalities between populations or within communities. Hence, it is of utmost importance for the public to be educated in this area and understand the disease itself. This article focuses on exploring multiple areas of the disease by highlighting its typical causes, commonly experienced symptoms, potential treatments and future prevention measures.Causes of CholeraAs mentioned at the start of this article, the pathogen that is responsible for the symptoms seen in Cholera infections are a species of bacteria known asVibro cholerae. Drinking water can be easily contaminated withVibro cholerae, thus making it unsafe for human consumption. The reasons for contamination of water may vary from one situation to another, however, the improper handling of sewage disposals remains as one of the most common reasons for Cholera outbreaks that is observed in lesser developed countries around the world.The bacteriumVibro choleraecan be spread from one person to another through the faecal oral route. Faecal matter that is passed through a person infected with Cholera disease can go on to contaminate water supplies. Thus failure to properly and adequately treat the water supplies in the distribution system before public consumption can lead to more of the people in a population or community becoming infected with Cholera after they consume the contaminated water.  Other than drinking water,Vibro choleraemay also be spread and passed onto another person through food. This occurs when a person consumes food that has been previously contaminated with theVibro choleraebacteria from an infected person.Symptoms of CholeraThe severity of symptoms may vary from person to person, and usually mainly depends on the strength of an infected person’s immune system. However, symptoms that are typically seen in patients that are infected with Cholera include severe diarrhoea, which is the frequent passage of loose and watery faecal matter, along with dehydration and vomiting.The onset of symptoms are normally rapidly seen after infection with theVibro choleraebacteria. In some people, symptoms may appear as fast as within a few hours following consumption of contaminated food or water. However, it is also possible for symptoms to have a delayed onset in some people, where it only appears after four or five days followingVibro choleraeinfection.Strategies to prevent infectionsand outbreaksCholera is a disease that can be prevented, given appropriate steps are taken by both the individual themselves and also the general community or population living in the area. In order to prevent Cholera infections and outbreaks within the population or community, it is essential to ensure that the water sanitation process in that area is correctly carried out and  maintained. A clean water supply system prior to public distribution is the best way to prevent Cholera outbreaks in the population area.Besides that, prevention measures should also be taken at the individual level. These may include steps to maintain general hygiene habits, such as proper handwashing and having safe food handling processes. Vaccinations are also highly recommended in endemic areas around the world, where Cholera infections and outbreaks are relatively more likely to be seen than other areas.Treatment OptionsThe main method for treatment of Cholera infections include oral rehydration therapy (also known as ORT) and antibiotics. For more severe cases of Cholera infections, supportive care measures should also be taken, and these measures may include the administration of intravenous fluids. The treatment options mentioned above are mainly designed to manage the symptoms of diarrhoea, which is by focusing on the replacement of lost fluids and electrolytes from the body.ConclusionIn conclusion, Cholera infections and outbreaks are largely preventable. It is important to be mindful that these prevention measures do not only depend on personal hygiene practices, but also require global efforts in order to reinforce proper water sanitation processes and also ensure overall improvement of the general public’s awareness on Cholera disease.\n",
      "tags                                                                                                                                                                                                                                                                                                                                                                                                                                                                                                                                                                                                                                                                                                                                                                                                                                                                                                                                                                                                                                                                                                                                                                                                                                                                                                                                                                                                                                                                                                                                                                                                                                                                                                                                                                                                                                                                                                                                                                                                                                                                                                                                                                                                                                                                                                                                                                                                                                                                                                                                                                                                                                                                                                                                                                                                                                                                                                                                                                                                                                                                                                                                                                                                                                                                                                                                                                                                                                                                                                                                                                                                                                                                                                                                                                                                                                                                                                                                                                                                                                                                                                                                                                                                                                                                                                                                                                                                                                                                                                                                                                                                                                                                                                                                                                                                                                                                                                                                                                                                        cholera, food microbiology, Food safety, foodborne disease, microbiology\n",
      "Name: 0, dtype: object\n"
     ]
    }
   ],
   "source": [
    "# Temporarily set max_colwidth to None to display full text for the row\n",
    "with pd.option_context('display.max_colwidth', None):\n",
    "    print(df.iloc[0])"
   ]
  },
  {
   "cell_type": "code",
   "execution_count": 33,
   "id": "d44a3c01",
   "metadata": {
    "hidden": true
   },
   "outputs": [
    {
     "data": {
      "text/plain": [
       "371"
      ]
     },
     "execution_count": 33,
     "metadata": {},
     "output_type": "execute_result"
    }
   ],
   "source": [
    "len(df)"
   ]
  },
  {
   "cell_type": "code",
   "execution_count": 34,
   "id": "aa07b6c4",
   "metadata": {
    "hidden": true
   },
   "outputs": [],
   "source": [
    "# Remove duplicate rows based on the 'title' column\n",
    "df_unique = df.drop_duplicates(subset='title', keep='first')"
   ]
  },
  {
   "cell_type": "code",
   "execution_count": 36,
   "id": "56ffd0cd",
   "metadata": {
    "hidden": true
   },
   "outputs": [
    {
     "data": {
      "text/plain": [
       "158"
      ]
     },
     "execution_count": 36,
     "metadata": {},
     "output_type": "execute_result"
    }
   ],
   "source": [
    "len(df_unique)"
   ]
  },
  {
   "cell_type": "markdown",
   "id": "15758418",
   "metadata": {
    "heading_collapsed": true
   },
   "source": [
    "### Scraping other pages (additional info that may be useful)"
   ]
  },
  {
   "cell_type": "code",
   "execution_count": 179,
   "id": "7deb4b63",
   "metadata": {
    "hidden": true
   },
   "outputs": [],
   "source": [
    "def scrape_page(url):\n",
    "    response = requests.get(url)\n",
    "    if response.status_code == 200:\n",
    "        soup = BeautifulSoup(response.text, 'html.parser')\n",
    "        \n",
    "        # Extract the post title\n",
    "        title = soup.find('h1', class_='post-title').get_text(strip=True)\n",
    "        \n",
    "        # Extract the content from the post-content div\n",
    "        post_content_div = soup.find('div', class_='post-content entry-content')\n",
    "        content = []\n",
    "\n",
    "        # Iterate over all relevant tags within the post content\n",
    "        for element in post_content_div.children:\n",
    "            if element.name == 'p':\n",
    "                content.append(element.get_text(strip=True))\n",
    "            elif element.name == 'ul' or element.name == 'ol':  # Lists\n",
    "                for li in element.find_all('li'):\n",
    "                    content.append(f\"• {li.get_text(strip=True)}\")\n",
    "            elif element.name == 'h2':\n",
    "                content.append(f\"## {element.get_text(strip=True)}\")  # Sub-headings\n",
    "            elif element.name == 'h3':\n",
    "                content.append(f\"### {element.get_text(strip=True)}\")\n",
    "            elif element.name == 'div' and 'wp-block-jetpack-contact-info' in element.get('class', []):\n",
    "                # Handle contact info\n",
    "                contact_info = element.get_text(strip=True, separator='\\n')\n",
    "                content.append(f\"Contact Info:\\n{contact_info}\")\n",
    "            elif element.name == 'figure' and 'wp-block-image' in element.get('class', []):\n",
    "                # Handle images\n",
    "                img_tag = element.find('img')\n",
    "                if img_tag and img_tag['src']:\n",
    "                    content.append(f\"Image: {img_tag['src']}\")\n",
    "            elif element.name == 'div' and 'wp-block-jetpack-map' in element.get('class', []):\n",
    "                # Handle map links\n",
    "                map_link = element.find('a')\n",
    "                if map_link and map_link['href']:\n",
    "                    content.append(f\"Map Location: {map_link['href']}\")\n",
    "            elif element.name == 'div' and 'jetpack-simple-payments-wrapper' in element.get('class', []):\n",
    "                # Handle product details\n",
    "                product_title = element.find('div', class_='jetpack-simple-payments-title').get_text(strip=True)\n",
    "                product_description = element.find('div', class_='jetpack-simple-payments-description').get_text(strip=True)\n",
    "                product_price = element.find('div', class_='jetpack-simple-payments-price').get_text(strip=True)\n",
    "                purchase_link = element.find('a', class_='jetpack-simple-payments-purchase')['href']\n",
    "                \n",
    "                product_info = f\"Product: {product_title}\\nDescription: {product_description}\\nPrice: {product_price}\\nPurchase Link: {purchase_link}\"\n",
    "                content.append(product_info)\n",
    "            elif element.name == 'blockquote' and 'wp-block-quote' in element.get('class', []):\n",
    "                # Handle blockquotes\n",
    "                quote = element.find('p').get_text(strip=True)\n",
    "                citation = element.find('cite').get_text(strip=True) if element.find('cite') else None\n",
    "                if citation:\n",
    "                    content.append(f\"Quote: {quote}\\nCited: {citation}\")\n",
    "                else:\n",
    "                    content.append(f\"Quote: {quote}\")\n",
    "\n",
    "        return {'title': title, 'content': content}\n",
    "    else:\n",
    "        print(f\"Failed to retrieve {url}\")\n",
    "        return None"
   ]
  },
  {
   "cell_type": "code",
   "execution_count": 180,
   "id": "d86da721",
   "metadata": {
    "hidden": true
   },
   "outputs": [],
   "source": [
    "def scrape_multiple_pages(base_url, page_paths):\n",
    "    all_data = []\n",
    "    for path in page_paths:\n",
    "        url = f\"{base_url}{path}\"\n",
    "        page_data = scrape_page(url)\n",
    "        if page_data:\n",
    "            all_data.append(page_data)\n",
    "    return all_data"
   ]
  },
  {
   "cell_type": "code",
   "execution_count": 181,
   "id": "f584cdfc",
   "metadata": {
    "hidden": true
   },
   "outputs": [],
   "source": [
    "base_url = \"https://foodmicrobiology.academy/\"\n",
    "page_paths = [\"about-us\", \"consulting\", \"contact-us\", \"food-spoilage-yeast-reference-list\", \"shop\",\n",
    "             \"our-team\", \"project-management\", \"research\", \"education-training\", \"about\"] \n",
    "\n",
    "scraped_data = scrape_multiple_pages(base_url, page_paths)"
   ]
  },
  {
   "cell_type": "code",
   "execution_count": 197,
   "id": "c051d5d9",
   "metadata": {
    "hidden": true
   },
   "outputs": [],
   "source": [
    "additional_info = pd.DataFrame(scraped_data)"
   ]
  },
  {
   "cell_type": "code",
   "execution_count": 213,
   "id": "a69a411f",
   "metadata": {
    "hidden": true
   },
   "outputs": [
    {
     "data": {
      "text/html": [
       "<div>\n",
       "<style scoped>\n",
       "    .dataframe tbody tr th:only-of-type {\n",
       "        vertical-align: middle;\n",
       "    }\n",
       "\n",
       "    .dataframe tbody tr th {\n",
       "        vertical-align: top;\n",
       "    }\n",
       "\n",
       "    .dataframe thead th {\n",
       "        text-align: right;\n",
       "    }\n",
       "</style>\n",
       "<table border=\"1\" class=\"dataframe\">\n",
       "  <thead>\n",
       "    <tr style=\"text-align: right;\">\n",
       "      <th></th>\n",
       "      <th>title</th>\n",
       "      <th>content</th>\n",
       "    </tr>\n",
       "  </thead>\n",
       "  <tbody>\n",
       "    <tr>\n",
       "      <th>0</th>\n",
       "      <td>About us</td>\n",
       "      <td>[Fresher Healthier Safer., This is at the core...</td>\n",
       "    </tr>\n",
       "    <tr>\n",
       "      <th>1</th>\n",
       "      <td>Consulting</td>\n",
       "      <td>[We offer specialised food preservation consul...</td>\n",
       "    </tr>\n",
       "    <tr>\n",
       "      <th>2</th>\n",
       "      <td>Contact us</td>\n",
       "      <td>[Contact Info:\\nContact Dr Philip Button direc...</td>\n",
       "    </tr>\n",
       "    <tr>\n",
       "      <th>3</th>\n",
       "      <td>Food spoilage yeast reference list</td>\n",
       "      <td>[References, 1999,Critical Controls for Juice ...</td>\n",
       "    </tr>\n",
       "    <tr>\n",
       "      <th>4</th>\n",
       "      <td>Our shop</td>\n",
       "      <td>[Product: Science and business of food entrepr...</td>\n",
       "    </tr>\n",
       "  </tbody>\n",
       "</table>\n",
       "</div>"
      ],
      "text/plain": [
       "                                title  \\\n",
       "0                            About us   \n",
       "1                          Consulting   \n",
       "2                          Contact us   \n",
       "3  Food spoilage yeast reference list   \n",
       "4                            Our shop   \n",
       "\n",
       "                                             content  \n",
       "0  [Fresher Healthier Safer., This is at the core...  \n",
       "1  [We offer specialised food preservation consul...  \n",
       "2  [Contact Info:\\nContact Dr Philip Button direc...  \n",
       "3  [References, 1999,Critical Controls for Juice ...  \n",
       "4  [Product: Science and business of food entrepr...  "
      ]
     },
     "execution_count": 213,
     "metadata": {},
     "output_type": "execute_result"
    }
   ],
   "source": [
    "additional_info.head()"
   ]
  },
  {
   "cell_type": "code",
   "execution_count": 199,
   "id": "849a3b0c",
   "metadata": {
    "hidden": true
   },
   "outputs": [],
   "source": [
    "# New information to append\n",
    "new_info = 'We are a dedicated team here to drive and inspire your creativity, innovation and passion. Dr Philip Button, Academy Director & Head of Research. Based in: Melbourne, Victoria, Australia. Expertise in theoretical research, academic and scholarly perspectives on all areas of food microbiology, although particularly in food quality and spoilage. Alma mater: The University of Melbourne. philip.button@foodmicrobiology.academy'"
   ]
  },
  {
   "cell_type": "code",
   "execution_count": 200,
   "id": "e4c4931a",
   "metadata": {
    "hidden": true
   },
   "outputs": [
    {
     "name": "stderr",
     "output_type": "stream",
     "text": [
      "/var/folders/yw/4jpdvg_930bf7v2860107yfw0000gn/T/ipykernel_32490/398180914.py:1: FutureWarning: ChainedAssignmentError: behaviour will change in pandas 3.0!\n",
      "You are setting values through chained assignment. Currently this works in certain cases, but when using Copy-on-Write (which will become the default behaviour in pandas 3.0) this will never work to update the original DataFrame or Series, because the intermediate object on which we are setting values will behave as a copy.\n",
      "A typical example is when you are setting values in a column of a DataFrame, like:\n",
      "\n",
      "df[\"col\"][row_indexer] = value\n",
      "\n",
      "Use `df.loc[row_indexer, \"col\"] = values` instead, to perform the assignment in a single step and ensure this keeps updating the original `df`.\n",
      "\n",
      "See the caveats in the documentation: https://pandas.pydata.org/pandas-docs/stable/user_guide/indexing.html#returning-a-view-versus-a-copy\n",
      "\n",
      "  additional_info['content'][5] = new_info\n"
     ]
    }
   ],
   "source": [
    "additional_info['content'][5] = new_info"
   ]
  },
  {
   "cell_type": "markdown",
   "id": "6855df8a",
   "metadata": {},
   "source": [
    "### Exporting the data files (csv format)"
   ]
  },
  {
   "cell_type": "code",
   "execution_count": 214,
   "id": "7d2b7a21",
   "metadata": {},
   "outputs": [],
   "source": [
    "# Save the data to a CSV file\n",
    "df.to_csv('articles_info.csv', index=False)\n",
    "additional_info.to_csv('additional_info.csv', index=False)"
   ]
  }
 ],
 "metadata": {
  "kernelspec": {
   "display_name": "Python 3 (ipykernel)",
   "language": "python",
   "name": "python3"
  },
  "language_info": {
   "codemirror_mode": {
    "name": "ipython",
    "version": 3
   },
   "file_extension": ".py",
   "mimetype": "text/x-python",
   "name": "python",
   "nbconvert_exporter": "python",
   "pygments_lexer": "ipython3",
   "version": "3.12.2"
  },
  "varInspector": {
   "cols": {
    "lenName": 16,
    "lenType": 16,
    "lenVar": 40
   },
   "kernels_config": {
    "python": {
     "delete_cmd_postfix": "",
     "delete_cmd_prefix": "del ",
     "library": "var_list.py",
     "varRefreshCmd": "print(var_dic_list())"
    },
    "r": {
     "delete_cmd_postfix": ") ",
     "delete_cmd_prefix": "rm(",
     "library": "var_list.r",
     "varRefreshCmd": "cat(var_dic_list()) "
    }
   },
   "types_to_exclude": [
    "module",
    "function",
    "builtin_function_or_method",
    "instance",
    "_Feature"
   ],
   "window_display": false
  }
 },
 "nbformat": 4,
 "nbformat_minor": 5
}
