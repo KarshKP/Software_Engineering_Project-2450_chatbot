{
 "cells": [
  {
   "cell_type": "markdown",
   "id": "541d5429",
   "metadata": {},
   "source": [
    "### Importing necessary libraries & data files"
   ]
  },
  {
   "cell_type": "code",
   "execution_count": 1,
   "id": "a32b70ea",
   "metadata": {},
   "outputs": [],
   "source": [
    "import pandas as pd\n",
    "from transformers import AutoTokenizer, AutoModelForSeq2SeqLM, pipeline, Trainer, TrainingArguments, DataCollatorWithPadding, AutoModelForQuestionAnswering, AutoModel\n",
    "import torch\n",
    "from datasets import Dataset"
   ]
  },
  {
   "cell_type": "code",
   "execution_count": 12,
   "id": "4a2571a8",
   "metadata": {},
   "outputs": [
    {
     "name": "stderr",
     "output_type": "stream",
     "text": [
      "/var/folders/yw/4jpdvg_930bf7v2860107yfw0000gn/T/ipykernel_12485/1684596995.py:13: SettingWithCopyWarning: \n",
      "A value is trying to be set on a copy of a slice from a DataFrame.\n",
      "Try using .loc[row_indexer,col_indexer] = value instead\n",
      "\n",
      "See the caveats in the documentation: https://pandas.pydata.org/pandas-docs/stable/user_guide/indexing.html#returning-a-view-versus-a-copy\n",
      "  context_df['combined_text'] = context_df['combined_text'].fillna('')\n"
     ]
    },
    {
     "data": {
      "text/html": [
       "<div>\n",
       "<style scoped>\n",
       "    .dataframe tbody tr th:only-of-type {\n",
       "        vertical-align: middle;\n",
       "    }\n",
       "\n",
       "    .dataframe tbody tr th {\n",
       "        vertical-align: top;\n",
       "    }\n",
       "\n",
       "    .dataframe thead th {\n",
       "        text-align: right;\n",
       "    }\n",
       "</style>\n",
       "<table border=\"1\" class=\"dataframe\">\n",
       "  <thead>\n",
       "    <tr style=\"text-align: right;\">\n",
       "      <th></th>\n",
       "      <th>title</th>\n",
       "      <th>combined_text</th>\n",
       "    </tr>\n",
       "  </thead>\n",
       "  <tbody>\n",
       "    <tr>\n",
       "      <th>0</th>\n",
       "      <td>Understanding Cholera: A brief look into its c...</td>\n",
       "      <td>Understanding Cholera: A brief look into its c...</td>\n",
       "    </tr>\n",
       "    <tr>\n",
       "      <th>1</th>\n",
       "      <td>From HPP Innovation Week – Part 2</td>\n",
       "      <td>From HPP Innovation Week – Part 2. This is the...</td>\n",
       "    </tr>\n",
       "    <tr>\n",
       "      <th>2</th>\n",
       "      <td>From HPP Innovation week – Part 1</td>\n",
       "      <td>From HPP Innovation week – Part 1. Hiperbaric ...</td>\n",
       "    </tr>\n",
       "    <tr>\n",
       "      <th>3</th>\n",
       "      <td>Coliforms and their role in ensuring the safet...</td>\n",
       "      <td>Coliforms and their role in ensuring the safet...</td>\n",
       "    </tr>\n",
       "    <tr>\n",
       "      <th>4</th>\n",
       "      <td>Diverse burden of foodborne disease</td>\n",
       "      <td>Diverse burden of foodborne disease. Foodborne...</td>\n",
       "    </tr>\n",
       "  </tbody>\n",
       "</table>\n",
       "</div>"
      ],
      "text/plain": [
       "                                               title  \\\n",
       "0  Understanding Cholera: A brief look into its c...   \n",
       "1                  From HPP Innovation Week – Part 2   \n",
       "2                  From HPP Innovation week – Part 1   \n",
       "3  Coliforms and their role in ensuring the safet...   \n",
       "4                Diverse burden of foodborne disease   \n",
       "\n",
       "                                       combined_text  \n",
       "0  Understanding Cholera: A brief look into its c...  \n",
       "1  From HPP Innovation Week – Part 2. This is the...  \n",
       "2  From HPP Innovation week – Part 1. Hiperbaric ...  \n",
       "3  Coliforms and their role in ensuring the safet...  \n",
       "4  Diverse burden of foodborne disease. Foodborne...  "
      ]
     },
     "execution_count": 12,
     "metadata": {},
     "output_type": "execute_result"
    }
   ],
   "source": [
    "article_info = pd.read_csv(\"articles_info.csv\")  \n",
    "additional_info = pd.read_csv(\"additional_info.csv\")\n",
    "\n",
    "article_info['combined_text'] = article_info['title'] + \". \" + article_info['content'] + \" Tags: \" + article_info['tags']\n",
    "\n",
    "context_df = article_info[['title', 'combined_text']] \n",
    "\n",
    "additional_info = additional_info.rename(columns={\n",
    "    'info_title': 'title',\n",
    "    'content': 'combined_text'\n",
    "})\n",
    "\n",
    "context_df['combined_text'] = context_df['combined_text'].fillna('')\n",
    "\n",
    "context_df = pd.concat([context_df, additional_info], ignore_index=True)\n",
    "context_df.head()"
   ]
  },
  {
   "cell_type": "markdown",
   "id": "2921cdb8",
   "metadata": {
    "heading_collapsed": true
   },
   "source": [
    "### Generating Q&A based on the data files"
   ]
  },
  {
   "cell_type": "code",
   "execution_count": 3,
   "id": "2eaff6f5",
   "metadata": {
    "hidden": true
   },
   "outputs": [
    {
     "name": "stderr",
     "output_type": "stream",
     "text": [
      "You are using the default legacy behaviour of the <class 'transformers.models.t5.tokenization_t5.T5Tokenizer'>. This is expected, and simply means that the `legacy` (previous) behavior will be used so nothing changes for you. If you want to use the new behaviour, set `legacy=False`. This should only be set if you understand what it means, and thoroughly read the reason why this was added as explained in https://github.com/huggingface/transformers/pull/24565\n",
      "/opt/anaconda3/lib/python3.12/site-packages/transformers/tokenization_utils_base.py:1601: FutureWarning: `clean_up_tokenization_spaces` was not set. It will be set to `True` by default. This behavior will be depracted in transformers v4.45, and will be then set to `False` by default. For more details check this issue: https://github.com/huggingface/transformers/issues/31884\n",
      "  warnings.warn(\n",
      "Hardware accelerator e.g. GPU is available in the environment, but no `device` argument is passed to the `Pipeline` object. Model will be on CPU.\n"
     ]
    }
   ],
   "source": [
    "qg_pipeline = pipeline('text2text-generation', model=\"valhalla/t5-base-qg-hl\")\n",
    "\n",
    "def generate_multiple_questions(context, num_questions=10):\n",
    "    input_text = f\"generate question: {context}\"\n",
    "    questions = qg_pipeline(input_text, num_return_sequences=num_questions, num_beams=num_questions, max_length=64)\n",
    "    \n",
    "    return [q['generated_text'] for q in questions]"
   ]
  },
  {
   "cell_type": "code",
   "execution_count": 4,
   "id": "bb7feef4",
   "metadata": {
    "hidden": true
   },
   "outputs": [
    {
     "name": "stderr",
     "output_type": "stream",
     "text": [
      "Some weights of BertForQuestionAnswering were not initialized from the model checkpoint at dmis-lab/biobert-base-cased-v1.1 and are newly initialized: ['qa_outputs.bias', 'qa_outputs.weight']\n",
      "You should probably TRAIN this model on a down-stream task to be able to use it for predictions and inference.\n",
      "/opt/anaconda3/lib/python3.12/site-packages/transformers/tokenization_utils_base.py:1601: FutureWarning: `clean_up_tokenization_spaces` was not set. It will be set to `True` by default. This behavior will be depracted in transformers v4.45, and will be then set to `False` by default. For more details check this issue: https://github.com/huggingface/transformers/issues/31884\n",
      "  warnings.warn(\n"
     ]
    }
   ],
   "source": [
    "# Load BioBERT model for Q&A\n",
    "bio_model_name = \"dmis-lab/biobert-base-cased-v1.1\"\n",
    "bio_model = AutoModelForQuestionAnswering.from_pretrained(bio_model_name)\n",
    "bio_tokenizer = AutoTokenizer.from_pretrained(bio_model_name)"
   ]
  },
  {
   "cell_type": "code",
   "execution_count": 5,
   "id": "151343f5",
   "metadata": {
    "hidden": true
   },
   "outputs": [
    {
     "name": "stderr",
     "output_type": "stream",
     "text": [
      "/opt/anaconda3/lib/python3.12/site-packages/transformers/tokenization_utils_base.py:1601: FutureWarning: `clean_up_tokenization_spaces` was not set. It will be set to `True` by default. This behavior will be depracted in transformers v4.45, and will be then set to `False` by default. For more details check this issue: https://github.com/huggingface/transformers/issues/31884\n",
      "  warnings.warn(\n",
      "Hardware accelerator e.g. GPU is available in the environment, but no `device` argument is passed to the `Pipeline` object. Model will be on CPU.\n"
     ]
    }
   ],
   "source": [
    "gen_qa_pipeline = pipeline('text2text-generation', model=\"google/flan-t5-large\")\n",
    "\n",
    "def truncate_context(context, max_length=512):\n",
    "    tokenized_text = bio_tokenizer.tokenize(context)\n",
    "    if len(tokenized_text) > max_length:\n",
    "        tokenized_text = tokenized_text[:max_length]\n",
    "    return bio_tokenizer.convert_tokens_to_string(tokenized_text)\n",
    "\n",
    "def generate_longer_answers(context, question, min_length=50, max_length=200):\n",
    "    truncated_context = truncate_context(context)\n",
    "    \n",
    "    input_text = f\"question: {question} context: {truncated_context}\"\n",
    "    answers = gen_qa_pipeline(input_text, num_return_sequences=1, min_length=min_length, max_length=max_length)\n",
    "\n",
    "    return answers[0]['generated_text']"
   ]
  },
  {
   "cell_type": "markdown",
   "id": "d879f1a8",
   "metadata": {},
   "source": [
    "### BioBERT model"
   ]
  },
  {
   "cell_type": "code",
   "execution_count": 2,
   "id": "aeba8c4a",
   "metadata": {},
   "outputs": [
    {
     "name": "stderr",
     "output_type": "stream",
     "text": [
      "/opt/anaconda3/lib/python3.12/site-packages/transformers/tokenization_utils_base.py:1601: FutureWarning: `clean_up_tokenization_spaces` was not set. It will be set to `True` by default. This behavior will be depracted in transformers v4.45, and will be then set to `False` by default. For more details check this issue: https://github.com/huggingface/transformers/issues/31884\n",
      "  warnings.warn(\n",
      "Some weights of BertForQuestionAnswering were not initialized from the model checkpoint at dmis-lab/biobert-base-cased-v1.1 and are newly initialized: ['qa_outputs.bias', 'qa_outputs.weight']\n",
      "You should probably TRAIN this model on a down-stream task to be able to use it for predictions and inference.\n",
      "Hardware accelerator e.g. GPU is available in the environment, but no `device` argument is passed to the `Pipeline` object. Model will be on CPU.\n"
     ]
    }
   ],
   "source": [
    "# Load BioBERT model and tokenizer\n",
    "model_name = \"dmis-lab/biobert-base-cased-v1.1\"\n",
    "tokenizer = AutoTokenizer.from_pretrained(model_name)\n",
    "model = AutoModelForQuestionAnswering.from_pretrained(model_name)\n",
    "\n",
    "# Set up the question-answering pipeline\n",
    "qa_pipeline = pipeline(\"question-answering\", model=model, tokenizer=tokenizer)"
   ]
  },
  {
   "cell_type": "code",
   "execution_count": 26,
   "id": "a9abe4a2",
   "metadata": {},
   "outputs": [],
   "source": [
    "# Define the function for answering questions using each row in the DataFrame\n",
    "def answer_question_on_df(question, df, context_column='combined_text'):\n",
    "    # Define a function to get an answer for a single context\n",
    "    def get_answer(context):\n",
    "        if not context:  # Check if the context is empty or NaN\n",
    "            return \"No context provided\"\n",
    "        \n",
    "        response = qa_pipeline({\n",
    "            'question': question,\n",
    "            'context': context\n",
    "        })\n",
    "        return response['answer']\n",
    "    \n",
    "    # Apply the function to the specified column and store results in a new column\n",
    "    df['answer'] = df[context_column].apply(get_answer)\n",
    "    return df"
   ]
  },
  {
   "cell_type": "code",
   "execution_count": null,
   "id": "0eb92677",
   "metadata": {},
   "outputs": [],
   "source": [
    "# Example question\n",
    "question = \"What is microbiology?\"\n",
    "\n",
    "# Get answers for each row\n",
    "df_with_answers = answer_question_on_df(question, context_df)\n",
    "\n",
    "# Display the updated DataFrame with answers\n",
    "print(df_with_answers)"
   ]
  },
  {
   "cell_type": "code",
   "execution_count": null,
   "id": "fa681d67",
   "metadata": {},
   "outputs": [],
   "source": []
  }
 ],
 "metadata": {
  "kernelspec": {
   "display_name": "Python 3 (ipykernel)",
   "language": "python",
   "name": "python3"
  },
  "language_info": {
   "codemirror_mode": {
    "name": "ipython",
    "version": 3
   },
   "file_extension": ".py",
   "mimetype": "text/x-python",
   "name": "python",
   "nbconvert_exporter": "python",
   "pygments_lexer": "ipython3",
   "version": "3.12.2"
  },
  "varInspector": {
   "cols": {
    "lenName": 16,
    "lenType": 16,
    "lenVar": 40
   },
   "kernels_config": {
    "python": {
     "delete_cmd_postfix": "",
     "delete_cmd_prefix": "del ",
     "library": "var_list.py",
     "varRefreshCmd": "print(var_dic_list())"
    },
    "r": {
     "delete_cmd_postfix": ") ",
     "delete_cmd_prefix": "rm(",
     "library": "var_list.r",
     "varRefreshCmd": "cat(var_dic_list()) "
    }
   },
   "types_to_exclude": [
    "module",
    "function",
    "builtin_function_or_method",
    "instance",
    "_Feature"
   ],
   "window_display": false
  }
 },
 "nbformat": 4,
 "nbformat_minor": 5
}
