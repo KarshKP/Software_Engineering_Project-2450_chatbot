{
 "cells": [
  {
   "cell_type": "markdown",
   "id": "86ca381d",
   "metadata": {},
   "source": [
    "### Importing necessary libraries"
   ]
  },
  {
   "cell_type": "code",
   "execution_count": 1,
   "id": "63576057",
   "metadata": {},
   "outputs": [
    {
     "name": "stderr",
     "output_type": "stream",
     "text": [
      "/opt/homebrew/lib/python3.11/site-packages/tqdm/auto.py:21: TqdmWarning: IProgress not found. Please update jupyter and ipywidgets. See https://ipywidgets.readthedocs.io/en/stable/user_install.html\n",
      "  from .autonotebook import tqdm as notebook_tqdm\n"
     ]
    }
   ],
   "source": [
    "import numpy as np\n",
    "import pandas as pd\n",
    "import matplotlib.pyplot as plt\n",
    "import seaborn as sns\n",
    "import re\n",
    "import nltk\n",
    "from nltk.corpus import stopwords\n",
    "from nltk.tokenize import RegexpTokenizer\n",
    "from nltk.stem import WordNetLemmatizer\n",
    "import string\n",
    "from transformers import AutoTokenizer, AutoModelForQuestionAnswering, pipeline\n",
    "from sklearn.feature_extraction.text import TfidfVectorizer\n",
    "from sklearn.metrics.pairwise import cosine_similarity"
   ]
  },
  {
   "cell_type": "markdown",
   "id": "d5aa88b0",
   "metadata": {},
   "source": [
    "### Importing the data files"
   ]
  },
  {
   "cell_type": "code",
   "execution_count": 2,
   "id": "a5f7fb8a",
   "metadata": {},
   "outputs": [],
   "source": [
    "data = pd.read_csv('articles_info.csv')\n",
    "additional_data = pd.read_csv('additional_info.csv')"
   ]
  },
  {
   "cell_type": "markdown",
   "id": "1f1a1bf9",
   "metadata": {},
   "source": [
    "### Data Cleaning"
   ]
  },
  {
   "cell_type": "code",
   "execution_count": 3,
   "id": "a1c38202",
   "metadata": {},
   "outputs": [],
   "source": [
    "#remove duplicate rows\n",
    "df = data.drop_duplicates(subset=\"content\", keep='first')"
   ]
  },
  {
   "cell_type": "code",
   "execution_count": 4,
   "id": "b1321d51",
   "metadata": {},
   "outputs": [
    {
     "data": {
      "text/html": [
       "<div>\n",
       "<style scoped>\n",
       "    .dataframe tbody tr th:only-of-type {\n",
       "        vertical-align: middle;\n",
       "    }\n",
       "\n",
       "    .dataframe tbody tr th {\n",
       "        vertical-align: top;\n",
       "    }\n",
       "\n",
       "    .dataframe thead th {\n",
       "        text-align: right;\n",
       "    }\n",
       "</style>\n",
       "<table border=\"1\" class=\"dataframe\">\n",
       "  <thead>\n",
       "    <tr style=\"text-align: right;\">\n",
       "      <th></th>\n",
       "      <th>category</th>\n",
       "      <th>sub_categories</th>\n",
       "      <th>title</th>\n",
       "      <th>link</th>\n",
       "      <th>date</th>\n",
       "      <th>content</th>\n",
       "      <th>tags</th>\n",
       "    </tr>\n",
       "  </thead>\n",
       "  <tbody>\n",
       "    <tr>\n",
       "      <th>count</th>\n",
       "      <td>158</td>\n",
       "      <td>158</td>\n",
       "      <td>158</td>\n",
       "      <td>158</td>\n",
       "      <td>158</td>\n",
       "      <td>158</td>\n",
       "      <td>138</td>\n",
       "    </tr>\n",
       "    <tr>\n",
       "      <th>unique</th>\n",
       "      <td>17</td>\n",
       "      <td>69</td>\n",
       "      <td>158</td>\n",
       "      <td>158</td>\n",
       "      <td>158</td>\n",
       "      <td>158</td>\n",
       "      <td>129</td>\n",
       "    </tr>\n",
       "    <tr>\n",
       "      <th>top</th>\n",
       "      <td>Bacteria</td>\n",
       "      <td>bacteria</td>\n",
       "      <td>Understanding Cholera: A brief look into its c...</td>\n",
       "      <td>https://foodmicrobiology.academy/understanding...</td>\n",
       "      <td>July 13, 2024</td>\n",
       "      <td>IntroductionCholera is a bacterial infection t...</td>\n",
       "      <td>food microbiology, food regulations, Food safe...</td>\n",
       "    </tr>\n",
       "    <tr>\n",
       "      <th>freq</th>\n",
       "      <td>88</td>\n",
       "      <td>18</td>\n",
       "      <td>1</td>\n",
       "      <td>1</td>\n",
       "      <td>1</td>\n",
       "      <td>1</td>\n",
       "      <td>4</td>\n",
       "    </tr>\n",
       "  </tbody>\n",
       "</table>\n",
       "</div>"
      ],
      "text/plain": [
       "        category sub_categories  \\\n",
       "count        158            158   \n",
       "unique        17             69   \n",
       "top     Bacteria       bacteria   \n",
       "freq          88             18   \n",
       "\n",
       "                                                    title  \\\n",
       "count                                                 158   \n",
       "unique                                                158   \n",
       "top     Understanding Cholera: A brief look into its c...   \n",
       "freq                                                    1   \n",
       "\n",
       "                                                     link           date  \\\n",
       "count                                                 158            158   \n",
       "unique                                                158            158   \n",
       "top     https://foodmicrobiology.academy/understanding...  July 13, 2024   \n",
       "freq                                                    1              1   \n",
       "\n",
       "                                                  content  \\\n",
       "count                                                 158   \n",
       "unique                                                158   \n",
       "top     IntroductionCholera is a bacterial infection t...   \n",
       "freq                                                    1   \n",
       "\n",
       "                                                     tags  \n",
       "count                                                 138  \n",
       "unique                                                129  \n",
       "top     food microbiology, food regulations, Food safe...  \n",
       "freq                                                    4  "
      ]
     },
     "execution_count": 4,
     "metadata": {},
     "output_type": "execute_result"
    }
   ],
   "source": [
    "df.describe()"
   ]
  },
  {
   "cell_type": "code",
   "execution_count": 5,
   "id": "31b479f5",
   "metadata": {},
   "outputs": [],
   "source": [
    "def preprocess_text(df, column):\n",
    "    # Convert text to lowercase\n",
    "    df[column] = df[column].str.lower()\n",
    "\n",
    "    # Remove punctuation\n",
    "    punctuations_list = string.punctuation\n",
    "    translator = str.maketrans('', '', punctuations_list)\n",
    "    df[column] = df[column].apply(lambda text: text.translate(translator))\n",
    "\n",
    "    # Remove repeating characters\n",
    "    df[column] = df[column].apply(lambda text: re.sub(r'(.)\\1+', r'\\1', text))\n",
    "\n",
    "    # Remove numbers\n",
    "    df[column] = df[column].apply(lambda text: re.sub('[0-9]+', '', text))\n",
    "\n",
    "    # Tokenize text\n",
    "    tokenizer = RegexpTokenizer(r'\\w+')\n",
    "    df[column] = df[column].apply(lambda text: tokenizer.tokenize(text))\n",
    "\n",
    "    # Lemmatization\n",
    "    lm = WordNetLemmatizer()\n",
    "    df[column] = df[column].apply(lambda words: [lm.lemmatize(word) for word in words])\n",
    "\n",
    "    # Convert list of words back to string\n",
    "    df[column] = df[column].apply(lambda words: ' '.join(words))\n",
    "\n",
    "    # Remove stopwords (moved to the end)\n",
    "    STOPWORDS = set(stopwords.words('english'))\n",
    "    df[column] = df[column].apply(lambda text: \" \".join([word for word in text.split() if word not in STOPWORDS]))\n",
    "\n",
    "    # Return the modified DataFrame\n",
    "    return df"
   ]
  },
  {
   "cell_type": "code",
   "execution_count": 6,
   "id": "f22b7546",
   "metadata": {},
   "outputs": [
    {
     "name": "stderr",
     "output_type": "stream",
     "text": [
      "/var/folders/yw/4jpdvg_930bf7v2860107yfw0000gn/T/ipykernel_13396/2336764375.py:3: SettingWithCopyWarning: \n",
      "A value is trying to be set on a copy of a slice from a DataFrame.\n",
      "Try using .loc[row_indexer,col_indexer] = value instead\n",
      "\n",
      "See the caveats in the documentation: https://pandas.pydata.org/pandas-docs/stable/user_guide/indexing.html#returning-a-view-versus-a-copy\n",
      "  df[column] = df[column].str.lower()\n",
      "/var/folders/yw/4jpdvg_930bf7v2860107yfw0000gn/T/ipykernel_13396/2336764375.py:8: SettingWithCopyWarning: \n",
      "A value is trying to be set on a copy of a slice from a DataFrame.\n",
      "Try using .loc[row_indexer,col_indexer] = value instead\n",
      "\n",
      "See the caveats in the documentation: https://pandas.pydata.org/pandas-docs/stable/user_guide/indexing.html#returning-a-view-versus-a-copy\n",
      "  df[column] = df[column].apply(lambda text: text.translate(translator))\n",
      "/var/folders/yw/4jpdvg_930bf7v2860107yfw0000gn/T/ipykernel_13396/2336764375.py:11: SettingWithCopyWarning: \n",
      "A value is trying to be set on a copy of a slice from a DataFrame.\n",
      "Try using .loc[row_indexer,col_indexer] = value instead\n",
      "\n",
      "See the caveats in the documentation: https://pandas.pydata.org/pandas-docs/stable/user_guide/indexing.html#returning-a-view-versus-a-copy\n",
      "  df[column] = df[column].apply(lambda text: re.sub(r'(.)\\1+', r'\\1', text))\n",
      "/var/folders/yw/4jpdvg_930bf7v2860107yfw0000gn/T/ipykernel_13396/2336764375.py:14: SettingWithCopyWarning: \n",
      "A value is trying to be set on a copy of a slice from a DataFrame.\n",
      "Try using .loc[row_indexer,col_indexer] = value instead\n",
      "\n",
      "See the caveats in the documentation: https://pandas.pydata.org/pandas-docs/stable/user_guide/indexing.html#returning-a-view-versus-a-copy\n",
      "  df[column] = df[column].apply(lambda text: re.sub('[0-9]+', '', text))\n",
      "/var/folders/yw/4jpdvg_930bf7v2860107yfw0000gn/T/ipykernel_13396/2336764375.py:18: SettingWithCopyWarning: \n",
      "A value is trying to be set on a copy of a slice from a DataFrame.\n",
      "Try using .loc[row_indexer,col_indexer] = value instead\n",
      "\n",
      "See the caveats in the documentation: https://pandas.pydata.org/pandas-docs/stable/user_guide/indexing.html#returning-a-view-versus-a-copy\n",
      "  df[column] = df[column].apply(lambda text: tokenizer.tokenize(text))\n",
      "/var/folders/yw/4jpdvg_930bf7v2860107yfw0000gn/T/ipykernel_13396/2336764375.py:22: SettingWithCopyWarning: \n",
      "A value is trying to be set on a copy of a slice from a DataFrame.\n",
      "Try using .loc[row_indexer,col_indexer] = value instead\n",
      "\n",
      "See the caveats in the documentation: https://pandas.pydata.org/pandas-docs/stable/user_guide/indexing.html#returning-a-view-versus-a-copy\n",
      "  df[column] = df[column].apply(lambda words: [lm.lemmatize(word) for word in words])\n",
      "/var/folders/yw/4jpdvg_930bf7v2860107yfw0000gn/T/ipykernel_13396/2336764375.py:25: SettingWithCopyWarning: \n",
      "A value is trying to be set on a copy of a slice from a DataFrame.\n",
      "Try using .loc[row_indexer,col_indexer] = value instead\n",
      "\n",
      "See the caveats in the documentation: https://pandas.pydata.org/pandas-docs/stable/user_guide/indexing.html#returning-a-view-versus-a-copy\n",
      "  df[column] = df[column].apply(lambda words: ' '.join(words))\n",
      "/var/folders/yw/4jpdvg_930bf7v2860107yfw0000gn/T/ipykernel_13396/2336764375.py:29: SettingWithCopyWarning: \n",
      "A value is trying to be set on a copy of a slice from a DataFrame.\n",
      "Try using .loc[row_indexer,col_indexer] = value instead\n",
      "\n",
      "See the caveats in the documentation: https://pandas.pydata.org/pandas-docs/stable/user_guide/indexing.html#returning-a-view-versus-a-copy\n",
      "  df[column] = df[column].apply(lambda text: \" \".join([word for word in text.split() if word not in STOPWORDS]))\n"
     ]
    }
   ],
   "source": [
    "df = preprocess_text(df, 'content')"
   ]
  },
  {
   "cell_type": "code",
   "execution_count": 7,
   "id": "21154cbb",
   "metadata": {},
   "outputs": [
    {
     "data": {
      "text/html": [
       "<div>\n",
       "<style scoped>\n",
       "    .dataframe tbody tr th:only-of-type {\n",
       "        vertical-align: middle;\n",
       "    }\n",
       "\n",
       "    .dataframe tbody tr th {\n",
       "        vertical-align: top;\n",
       "    }\n",
       "\n",
       "    .dataframe thead th {\n",
       "        text-align: right;\n",
       "    }\n",
       "</style>\n",
       "<table border=\"1\" class=\"dataframe\">\n",
       "  <thead>\n",
       "    <tr style=\"text-align: right;\">\n",
       "      <th></th>\n",
       "      <th>category</th>\n",
       "      <th>sub_categories</th>\n",
       "      <th>title</th>\n",
       "      <th>link</th>\n",
       "      <th>date</th>\n",
       "      <th>content</th>\n",
       "      <th>tags</th>\n",
       "    </tr>\n",
       "  </thead>\n",
       "  <tbody>\n",
       "    <tr>\n",
       "      <th>0</th>\n",
       "      <td>Bacteria</td>\n",
       "      <td>bacteria, public-health</td>\n",
       "      <td>Understanding Cholera: A brief look into its c...</td>\n",
       "      <td>https://foodmicrobiology.academy/understanding...</td>\n",
       "      <td>July 13, 2024</td>\n",
       "      <td>introductioncholera bacterial infection caused...</td>\n",
       "      <td>cholera, food microbiology, Food safety, foodb...</td>\n",
       "    </tr>\n",
       "    <tr>\n",
       "      <th>1</th>\n",
       "      <td>Bacteria</td>\n",
       "      <td>bacteria, food-quality, fungi, yeast</td>\n",
       "      <td>From HPP Innovation Week – Part 2</td>\n",
       "      <td>https://foodmicrobiology.academy/from-hpp-inno...</td>\n",
       "      <td>July 5, 2024</td>\n",
       "      <td>second twopart series overview blog article wr...</td>\n",
       "      <td>food industry, food manufacturing, food microb...</td>\n",
       "    </tr>\n",
       "    <tr>\n",
       "      <th>2</th>\n",
       "      <td>Bacteria</td>\n",
       "      <td>bacteria, food-quality</td>\n",
       "      <td>From HPP Innovation week – Part 1</td>\n",
       "      <td>https://foodmicrobiology.academy/from-hpp-inno...</td>\n",
       "      <td>June 30, 2024</td>\n",
       "      <td>hiperbaric îs global leader comercial high pre...</td>\n",
       "      <td>food manufacturing, food microbiology, food pr...</td>\n",
       "    </tr>\n",
       "    <tr>\n",
       "      <th>3</th>\n",
       "      <td>Bacteria</td>\n",
       "      <td>bacteria, public-health</td>\n",
       "      <td>Coliforms and their role in ensuring the safet...</td>\n",
       "      <td>https://foodmicrobiology.academy/coliforms-and...</td>\n",
       "      <td>June 27, 2024</td>\n",
       "      <td>delighted welcome ruby chin team ruby ndyear b...</td>\n",
       "      <td>foodborne disease, microbiology, water quality</td>\n",
       "    </tr>\n",
       "    <tr>\n",
       "      <th>4</th>\n",
       "      <td>Bacteria</td>\n",
       "      <td>bacteria, public-health</td>\n",
       "      <td>Diverse burden of foodborne disease</td>\n",
       "      <td>https://foodmicrobiology.academy/diverse-burde...</td>\n",
       "      <td>May 26, 2024</td>\n",
       "      <td>fodborne disease often refered fodborne ilnese...</td>\n",
       "      <td>food microbiology, Food safety, food science, ...</td>\n",
       "    </tr>\n",
       "  </tbody>\n",
       "</table>\n",
       "</div>"
      ],
      "text/plain": [
       "   category                        sub_categories  \\\n",
       "0  Bacteria               bacteria, public-health   \n",
       "1  Bacteria  bacteria, food-quality, fungi, yeast   \n",
       "2  Bacteria                bacteria, food-quality   \n",
       "3  Bacteria               bacteria, public-health   \n",
       "4  Bacteria               bacteria, public-health   \n",
       "\n",
       "                                               title  \\\n",
       "0  Understanding Cholera: A brief look into its c...   \n",
       "1                  From HPP Innovation Week – Part 2   \n",
       "2                  From HPP Innovation week – Part 1   \n",
       "3  Coliforms and their role in ensuring the safet...   \n",
       "4                Diverse burden of foodborne disease   \n",
       "\n",
       "                                                link           date  \\\n",
       "0  https://foodmicrobiology.academy/understanding...  July 13, 2024   \n",
       "1  https://foodmicrobiology.academy/from-hpp-inno...   July 5, 2024   \n",
       "2  https://foodmicrobiology.academy/from-hpp-inno...  June 30, 2024   \n",
       "3  https://foodmicrobiology.academy/coliforms-and...  June 27, 2024   \n",
       "4  https://foodmicrobiology.academy/diverse-burde...   May 26, 2024   \n",
       "\n",
       "                                             content  \\\n",
       "0  introductioncholera bacterial infection caused...   \n",
       "1  second twopart series overview blog article wr...   \n",
       "2  hiperbaric îs global leader comercial high pre...   \n",
       "3  delighted welcome ruby chin team ruby ndyear b...   \n",
       "4  fodborne disease often refered fodborne ilnese...   \n",
       "\n",
       "                                                tags  \n",
       "0  cholera, food microbiology, Food safety, foodb...  \n",
       "1  food industry, food manufacturing, food microb...  \n",
       "2  food manufacturing, food microbiology, food pr...  \n",
       "3     foodborne disease, microbiology, water quality  \n",
       "4  food microbiology, Food safety, food science, ...  "
      ]
     },
     "execution_count": 7,
     "metadata": {},
     "output_type": "execute_result"
    }
   ],
   "source": [
    "df.head()"
   ]
  },
  {
   "cell_type": "markdown",
   "id": "1839c346",
   "metadata": {},
   "source": [
    "### Integrating the BioBERT model"
   ]
  },
  {
   "cell_type": "code",
   "execution_count": 8,
   "id": "c0a2480b",
   "metadata": {},
   "outputs": [
    {
     "name": "stderr",
     "output_type": "stream",
     "text": [
      "/opt/homebrew/lib/python3.11/site-packages/transformers/tokenization_utils_base.py:1601: FutureWarning: `clean_up_tokenization_spaces` was not set. It will be set to `True` by default. This behavior will be depracted in transformers v4.45, and will be then set to `False` by default. For more details check this issue: https://github.com/huggingface/transformers/issues/31884\n",
      "  warnings.warn(\n",
      "Some weights of BertForQuestionAnswering were not initialized from the model checkpoint at dmis-lab/biobert-base-cased-v1.1 and are newly initialized: ['qa_outputs.bias', 'qa_outputs.weight']\n",
      "You should probably TRAIN this model on a down-stream task to be able to use it for predictions and inference.\n",
      "Hardware accelerator e.g. GPU is available in the environment, but no `device` argument is passed to the `Pipeline` object. Model will be on CPU.\n"
     ]
    }
   ],
   "source": [
    "# Load the pre-trained BioBERT model\n",
    "model_name = \"dmis-lab/biobert-base-cased-v1.1\"\n",
    "tokenizer = AutoTokenizer.from_pretrained(model_name)\n",
    "model = AutoModelForQuestionAnswering.from_pretrained(model_name)\n",
    "\n",
    "# Create a question-answering pipeline using the model and tokenizer\n",
    "qa_pipeline = pipeline(\"question-answering\", model=model, tokenizer=tokenizer)"
   ]
  },
  {
   "cell_type": "code",
   "execution_count": 9,
   "id": "270323b2",
   "metadata": {},
   "outputs": [],
   "source": [
    "# Vectorize the content of the articles\n",
    "tfidf_vectorizer = TfidfVectorizer()\n",
    "tfidf_matrix = tfidf_vectorizer.fit_transform(df['content'])"
   ]
  },
  {
   "cell_type": "code",
   "execution_count": 10,
   "id": "85b8fd23",
   "metadata": {},
   "outputs": [],
   "source": [
    "def recommend_articles(query):\n",
    "    # Vectorize the query\n",
    "    query_vec = tfidf_vectorizer.transform([query])\n",
    "    \n",
    "    # Compute cosine similarity between the query and each article\n",
    "    cosine_similarities = cosine_similarity(query_vec, tfidf_matrix).flatten()\n",
    "    \n",
    "    # Get top article indices\n",
    "    top_indices = cosine_similarities.argsort()[-3:][::-1]  # Top 3 recommendations\n",
    "    \n",
    "    # Return top articles\n",
    "    return df.iloc[top_indices]"
   ]
  },
  {
   "cell_type": "code",
   "execution_count": 11,
   "id": "cdf1407d",
   "metadata": {},
   "outputs": [],
   "source": [
    "def handle_user_input(user_input, context=None):\n",
    "    if context:\n",
    "        # Use BioBERT for question answering\n",
    "        result = qa_pipeline(question=user_input, context=context)\n",
    "        answer = result['answer']\n",
    "        return {\"type\": \"answer\", \"content\": answer}\n",
    "    else:\n",
    "        # Recommend articles based on user input\n",
    "        recommended = recommend_articles(user_input)\n",
    "        return {\"type\": \"recommendation\", \"content\": recommended}"
   ]
  },
  {
   "cell_type": "code",
   "execution_count": 12,
   "id": "82a0c274",
   "metadata": {},
   "outputs": [
    {
     "name": "stdout",
     "output_type": "stream",
     "text": [
      "BioBERT Response: {'type': 'answer', 'content': 'their role in inheritance, where genes are the'}\n",
      "Article Recommendation Response: {'type': 'recommendation', 'content':       category                                     sub_categories  \\\n",
      "104  Commentry                                          commentry   \n",
      "103  Commentry                                          commentry   \n",
      "75    Bacteria  bacteria, eukaryotic-microbiology, fermented-f...   \n",
      "\n",
      "                                                title  \\\n",
      "104  Traditional scientific academic research funding   \n",
      "103                               Our first two years   \n",
      "75              Career mentoring in food microbiology   \n",
      "\n",
      "                                                  link             date  \\\n",
      "104  https://foodmicrobiology.academy/traditional-s...    March 6, 2021   \n",
      "103  https://foodmicrobiology.academy/our-first-two...  January 1, 2022   \n",
      "75   https://foodmicrobiology.academy/career-mentor...  August 26, 2020   \n",
      "\n",
      "                                               content  \\\n",
      "104  ben active university researcher betwen first ...   \n",
      "103  mesage academy director head researchjust two ...   \n",
      "75   pasionate training guidance young people ben s...   \n",
      "\n",
      "                                                  tags  \n",
      "104  research funding, research grants, research pr...  \n",
      "103  food microbiologist, food microbiology, resear...  \n",
      "75   career, career choice, food microbiologist, me...  }\n"
     ]
    }
   ],
   "source": [
    "# Define a sample context for question answering\n",
    "context = \"Genetics is the study of genes and their role in inheritance, where genes are the basic units of heredity in living organisms.\"\n",
    "\n",
    "# Testing BioBERT question answering\n",
    "user_question = \"What is the study of genetics?\"\n",
    "response = handle_user_input(user_question, context)\n",
    "print(\"BioBERT Response:\", response)\n",
    "\n",
    "# Testing article recommendation\n",
    "user_query = \"Tell me about biomedical research.\"\n",
    "response = handle_user_input(user_query)\n",
    "print(\"Article Recommendation Response:\", response)"
   ]
  },
  {
   "cell_type": "code",
   "execution_count": null,
   "id": "943ed499",
   "metadata": {},
   "outputs": [],
   "source": []
  }
 ],
 "metadata": {
  "kernelspec": {
   "display_name": "Python 3 (ipykernel)",
   "language": "python",
   "name": "python3"
  },
  "language_info": {
   "codemirror_mode": {
    "name": "ipython",
    "version": 3
   },
   "file_extension": ".py",
   "mimetype": "text/x-python",
   "name": "python",
   "nbconvert_exporter": "python",
   "pygments_lexer": "ipython3",
   "version": "3.11.6"
  },
  "varInspector": {
   "cols": {
    "lenName": 16,
    "lenType": 16,
    "lenVar": 40
   },
   "kernels_config": {
    "python": {
     "delete_cmd_postfix": "",
     "delete_cmd_prefix": "del ",
     "library": "var_list.py",
     "varRefreshCmd": "print(var_dic_list())"
    },
    "r": {
     "delete_cmd_postfix": ") ",
     "delete_cmd_prefix": "rm(",
     "library": "var_list.r",
     "varRefreshCmd": "cat(var_dic_list()) "
    }
   },
   "types_to_exclude": [
    "module",
    "function",
    "builtin_function_or_method",
    "instance",
    "_Feature"
   ],
   "window_display": false
  }
 },
 "nbformat": 4,
 "nbformat_minor": 5
}
